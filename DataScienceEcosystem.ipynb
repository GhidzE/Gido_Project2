{
 "cells": [
  {
   "cell_type": "markdown",
   "id": "81faca07-2867-42a7-90ee-b90133ffe7ee",
   "metadata": {},
   "source": [
    "**Data Science Tools and Ecosystem**"
   ]
  },
  {
   "cell_type": "markdown",
   "id": "398fe813-c51f-4cfc-9bd3-a68127336bf1",
   "metadata": {},
   "source": [
    "In this notebook, Data Science Tools and Ecosystem are summarized."
   ]
  },
  {
   "cell_type": "markdown",
   "id": "ae8985d4-e864-43cd-a1b3-2fe3cdf0205b",
   "metadata": {},
   "source": [
    "__Objectives:__\n",
    "\n",
    " List popular languages for Data Science\n",
    " - Introduce essential libraries and frameworks used in Data Science\n",
    " - Discuss common methodologies and techniques in Data Science\n",
    " - Explore applications and case studies in Data Science\n",
    " - Provide resources and references for further learning in Data Scienceencece**"
   ]
  },
  {
   "cell_type": "markdown",
   "id": "d0c4fa9a-9848-4c10-8c76-664139401c5d",
   "metadata": {},
   "source": [
    "Some of the popular languages that Data Scientists use are:\n",
    "1. Python\r\n",
    "2. R\r\n",
    "3. SQL\r\n",
    "4. Jva\n"
   ]
  },
  {
   "cell_type": "markdown",
   "id": "b52cbd17-2b45-45f5-aa9a-3fa07904d5f9",
   "metadata": {},
   "source": [
    "Some of the commonly used libraries used by Data Scientists include:\r\n",
    "\r\n",
    "1. Numpy\r\n",
    "2. Pandas\r\n",
    "3. Matplotlib\r\n",
    "4. Seaborn"
   ]
  },
  {
   "cell_type": "markdown",
   "id": "799ac76d-f153-4be1-831c-6593885fcc91",
   "metadata": {},
   "source": [
    "| **Data Science Tools** |\n",
    "|----------------------|\n",
    "| Jupyter Notebook |\n",
    "| RStudio |\n",
    "| Spyder |"
   ]
  },
  {
   "cell_type": "markdown",
   "id": "5bd52c3e-4d09-446b-97c7-7bb56b2f3e1b",
   "metadata": {},
   "source": [
    "### Below are a few examples of evaluating arithmetic expressions in Python"
   ]
  },
  {
   "cell_type": "code",
   "execution_count": 9,
   "id": "61c24a33-ded4-4fb5-84a8-b9a6a93a04ee",
   "metadata": {},
   "outputs": [
    {
     "name": "stdout",
     "output_type": "stream",
     "text": [
      "17\n"
     ]
    }
   ],
   "source": [
    "# This is a simple arithmetic expression to multiply then add integers.\n",
    "result = (3 * 4) + 5\n",
    "print(result)"
   ]
  },
  {
   "cell_type": "code",
   "execution_count": 3,
   "id": "d3c3b97f-34d7-40b0-a558-04a63d13359e",
   "metadata": {},
   "outputs": [
    {
     "name": "stdout",
     "output_type": "stream",
     "text": [
      "3.3333333333333335\n"
     ]
    }
   ],
   "source": [
    "minutes = 200\n",
    "hours = minutes / 60\n",
    "print(hours)  # This will print the result"
   ]
  },
  {
   "cell_type": "markdown",
   "id": "7bfae5af-61c7-480b-b6b0-3e3b88e9747e",
   "metadata": {},
   "source": [
    "## Author\n",
    "Aguedo Santillan Eslera"
   ]
  },
  {
   "cell_type": "code",
   "execution_count": null,
   "id": "cf849b2b-8c90-4a69-8524-10355b43c19a",
   "metadata": {},
   "outputs": [],
   "source": []
  }
 ],
 "metadata": {
  "kernelspec": {
   "display_name": "Python 3 (ipykernel)",
   "language": "python",
   "name": "python3"
  },
  "language_info": {
   "codemirror_mode": {
    "name": "ipython",
    "version": 3
   },
   "file_extension": ".py",
   "mimetype": "text/x-python",
   "name": "python",
   "nbconvert_exporter": "python",
   "pygments_lexer": "ipython3",
   "version": "3.11.8"
  }
 },
 "nbformat": 4,
 "nbformat_minor": 5
}
